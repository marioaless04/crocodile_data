# ========================================
# Análisis de Datos - Crocodile Dataset
# ========================================

# Importar librerías
import pandas as pd
from src.data_cleaning import load_dataset, clean_dataset, save_cleaned_dataset
from src.visualization import plot_nulls, plot_histograms, plot_correlations, scatter_length_weight

# -----------------------------
# 1. Cargar Dataset
# -----------------------------
df = load_dataset("../data/crocodile_dataset.csv")
print("Dimensiones del dataset:", df.shape)
df.head()

# -----------------------------
# 2. Exploración de Datos
# -----------------------------
df.info()
df.describe(include="all")

# Visualización de valores nulos
plot_nulls(df)

# -----------------------------
# 3. Limpieza de Datos
# -----------------------------
df_clean = clean_dataset(df)
save_cleaned_dataset(df_clean, "../data/cleaned_dataset.csv")

# -----------------------------
# 4. Análisis Exploratorio
# -----------------------------
plot_histograms(df_clean)
plot_correlations(df_clean)
scatter_length_weight(df_clean)
